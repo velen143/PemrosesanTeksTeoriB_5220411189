{
  "nbformat": 4,
  "nbformat_minor": 0,
  "metadata": {
    "colab": {
      "provenance": []
    },
    "kernelspec": {
      "name": "python3",
      "display_name": "Python 3"
    },
    "language_info": {
      "name": "python"
    }
  },
  "cells": [
    {
      "cell_type": "markdown",
      "source": [
        "### Tingkat Kepercayaan Masyarakat terhadap Menteri Keuangan Baru Purbaya Yudhi Sadewa\n",
        "\n"
      ],
      "metadata": {
        "id": "HDj0i3KEiQa_"
      }
    },
    {
      "cell_type": "markdown",
      "source": [
        "### 1. Scraping Data\n",
        "Scraping diambil dari komentar masyarakat di channel youtube KompasTV saat Menteri Purbaya melakukan rapat perdana dengan DPR"
      ],
      "metadata": {
        "id": "Sl_9JiYBi6nM"
      }
    },
    {
      "cell_type": "code",
      "source": [
        "!pip install youtube-comment-downloader"
      ],
      "metadata": {
        "colab": {
          "base_uri": "https://localhost:8080/"
        },
        "id": "Q4WTtt_8f75R",
        "outputId": "0260406b-5dbf-4906-de6b-8191b5974d87"
      },
      "execution_count": 4,
      "outputs": [
        {
          "output_type": "stream",
          "name": "stdout",
          "text": [
            "Collecting youtube-comment-downloader\n",
            "  Downloading youtube_comment_downloader-0.1.78-py3-none-any.whl.metadata (2.9 kB)\n",
            "Collecting dateparser (from youtube-comment-downloader)\n",
            "  Downloading dateparser-1.2.2-py3-none-any.whl.metadata (29 kB)\n",
            "Requirement already satisfied: requests in /usr/local/lib/python3.12/dist-packages (from youtube-comment-downloader) (2.32.4)\n",
            "Requirement already satisfied: python-dateutil>=2.7.0 in /usr/local/lib/python3.12/dist-packages (from dateparser->youtube-comment-downloader) (2.9.0.post0)\n",
            "Requirement already satisfied: pytz>=2024.2 in /usr/local/lib/python3.12/dist-packages (from dateparser->youtube-comment-downloader) (2025.2)\n",
            "Requirement already satisfied: regex>=2024.9.11 in /usr/local/lib/python3.12/dist-packages (from dateparser->youtube-comment-downloader) (2024.11.6)\n",
            "Requirement already satisfied: tzlocal>=0.2 in /usr/local/lib/python3.12/dist-packages (from dateparser->youtube-comment-downloader) (5.3.1)\n",
            "Requirement already satisfied: charset_normalizer<4,>=2 in /usr/local/lib/python3.12/dist-packages (from requests->youtube-comment-downloader) (3.4.4)\n",
            "Requirement already satisfied: idna<4,>=2.5 in /usr/local/lib/python3.12/dist-packages (from requests->youtube-comment-downloader) (3.11)\n",
            "Requirement already satisfied: urllib3<3,>=1.21.1 in /usr/local/lib/python3.12/dist-packages (from requests->youtube-comment-downloader) (2.5.0)\n",
            "Requirement already satisfied: certifi>=2017.4.17 in /usr/local/lib/python3.12/dist-packages (from requests->youtube-comment-downloader) (2025.10.5)\n",
            "Requirement already satisfied: six>=1.5 in /usr/local/lib/python3.12/dist-packages (from python-dateutil>=2.7.0->dateparser->youtube-comment-downloader) (1.17.0)\n",
            "Downloading youtube_comment_downloader-0.1.78-py3-none-any.whl (8.3 kB)\n",
            "Downloading dateparser-1.2.2-py3-none-any.whl (315 kB)\n",
            "\u001b[2K   \u001b[90m━━━━━━━━━━━━━━━━━━━━━━━━━━━━━━━━━━━━━━━━\u001b[0m \u001b[32m315.5/315.5 kB\u001b[0m \u001b[31m10.4 MB/s\u001b[0m eta \u001b[36m0:00:00\u001b[0m\n",
            "\u001b[?25hInstalling collected packages: dateparser, youtube-comment-downloader\n",
            "Successfully installed dateparser-1.2.2 youtube-comment-downloader-0.1.78\n"
          ]
        }
      ]
    },
    {
      "cell_type": "code",
      "source": [
        "from youtube_comment_downloader import YoutubeCommentDownloader\n",
        "import pandas as pd\n",
        "\n",
        "downloader = YoutubeCommentDownloader()\n",
        "\n",
        "video_url = 'https://www.youtube.com/watch?v=hCRdLMChOzc'\n",
        "\n",
        "comments = downloader.get_comments_from_url(video_url)\n"
      ],
      "metadata": {
        "id": "rY49x-zifvqb"
      },
      "execution_count": 5,
      "outputs": []
    },
    {
      "cell_type": "markdown",
      "source": [
        "### 2. Case Folding\n"
      ],
      "metadata": {
        "id": "r_mLU8lOjTME"
      }
    },
    {
      "cell_type": "code",
      "source": [
        "all_comments = []\n",
        "for c in comments:\n",
        "    all_comments.append(c['text'].lower())\n",
        "\n",
        "# Buat DataFrame\n",
        "df = pd.DataFrame(all_comments, columns=['komentar'])\n",
        "\n",
        "# Simpan ke file CSV\n",
        "df.to_csv('hasil_scraping_komentar.csv', index=False)\n",
        "\n",
        "print(\"Hasil scraping telah disimpan di file 'hasil_scraping_komentar.csv'\")"
      ],
      "metadata": {
        "colab": {
          "base_uri": "https://localhost:8080/"
        },
        "id": "4UcIJWvDjSBl",
        "outputId": "1a06dd1a-4d45-437a-f33a-c62c276a574c"
      },
      "execution_count": 6,
      "outputs": [
        {
          "output_type": "stream",
          "name": "stdout",
          "text": [
            "Hasil scraping telah disimpan di file 'hasil_scraping_komentar.csv'\n"
          ]
        }
      ]
    },
    {
      "cell_type": "markdown",
      "source": [
        "### 3. Analisis kepuasan dengan dictionary sederhana"
      ],
      "metadata": {
        "id": "NrlrJncKjfbJ"
      }
    },
    {
      "cell_type": "code",
      "source": [
        "import matplotlib.pyplot as plt\n",
        "import seaborn as sns"
      ],
      "metadata": {
        "id": "zAFxG7xvjkz5"
      },
      "execution_count": null,
      "outputs": []
    },
    {
      "cell_type": "code",
      "source": [
        "# Daftar kata positif dan negatif sederhana\n",
        "percaya = ['baik', 'bagus', 'hebat', 'puas', 'mantap', 'percaya', 'optimis']\n",
        "kurang_percaya = ['buruk', 'gagal', 'tidak', 'percaya', 'meragukan', 'parah', 'aneh', 'negatif']\n",
        "\n",
        "# Fungsi analisis sentimen sederhana\n",
        "def analisis_sentimen(teks):\n",
        "    score = 0\n",
        "    kata = teks.split()\n",
        "    for word in kata:\n",
        "        if word in percaya:\n",
        "            score += 1\n",
        "        elif word in kurang_percaya:\n",
        "            score -= 1\n",
        "    if score > 0:\n",
        "        return 'Percaya'\n",
        "    else:\n",
        "        return 'Kurang Percaya'\n",
        "\n",
        "\n",
        "# Terapkan analisis sentimen ke kolom komentar\n",
        "df['sentimen'] = df['komentar'].apply(analisis_sentimen)\n",
        "\n",
        "# Tampilkan hasil analisis (5 baris pertama)\n",
        "print(df.head())\n",
        "\n",
        "# Hitung jumlah tiap sentimen\n",
        "sentimen_counts = df['sentimen'].value_counts()\n",
        "\n",
        "print(\"\\nJumlah komentar per sentimen:\")\n",
        "print(sentimen_counts)\n",
        "\n",
        "# Visualisasi grafik distribusi sentimen\n",
        "plt.figure(figsize=(6,4))\n",
        "sns.barplot(x=sentimen_counts.index, y=sentimen_counts.values, palette='pastel')\n",
        "plt.title('Distribusi Sentimen Komentar YouTube')\n",
        "plt.xlabel('Kategori Sentimen')\n",
        "plt.ylabel('Jumlah Komentar')\n",
        "plt.show()"
      ],
      "metadata": {
        "colab": {
          "base_uri": "https://localhost:8080/",
          "height": 531
        },
        "id": "VuKf_hjykHm_",
        "outputId": "731b88d7-3be3-4b20-e734-fa5c2f7530a4"
      },
      "execution_count": null,
      "outputs": [
        {
          "output_type": "stream",
          "name": "stdout",
          "text": [
            "                                            komentar        sentimen\n",
            "0  aku sempat berpikir ada ga sih anggota dpr yg ...  Kurang Percaya\n",
            "1  kalau p purbaya pinter gak bolet seperti kalia...  Kurang Percaya\n",
            "2  memang p purbaya pinter kenapa dua hari aja fi...  Kurang Percaya\n",
            "3                persis pinter padahal ting kosong 😊  Kurang Percaya\n",
            "4                                          gjih buta  Kurang Percaya\n",
            "\n",
            "Jumlah komentar per sentimen:\n",
            "sentimen\n",
            "Kurang Percaya    1140\n",
            "Percaya             44\n",
            "Name: count, dtype: int64\n"
          ]
        },
        {
          "output_type": "stream",
          "name": "stderr",
          "text": [
            "/tmp/ipython-input-1278832436.py:34: FutureWarning: \n",
            "\n",
            "Passing `palette` without assigning `hue` is deprecated and will be removed in v0.14.0. Assign the `x` variable to `hue` and set `legend=False` for the same effect.\n",
            "\n",
            "  sns.barplot(x=sentimen_counts.index, y=sentimen_counts.values, palette='pastel')\n"
          ]
        },
        {
          "output_type": "display_data",
          "data": {
            "text/plain": [
              "<Figure size 600x400 with 1 Axes>"
            ],
            "image/png": "[encoded data removed]"
          },
          "metadata": {}
        }
      ]
    },
    {
      "cell_type": "markdown",
      "source": [
        "### 4. Pre-Processing"
      ],
      "metadata": {
        "id": "P5sBm3w1CB9h"
      }
    },
    {
      "cell_type": "code",
      "source": [
        "!pip install pandas"
      ],
      "metadata": {
        "colab": {
          "base_uri": "https://localhost:8080/"
        },
        "id": "UXqa5_2OkIck",
        "outputId": "4eb9d86f-46bc-4d92-c822-57aabfe986c1"
      },
      "execution_count": 12,
      "outputs": [
        {
          "output_type": "stream",
          "name": "stdout",
          "text": [
            "Requirement already satisfied: pandas in /usr/local/lib/python3.12/dist-packages (2.2.2)\n",
            "Requirement already satisfied: numpy>=1.26.0 in /usr/local/lib/python3.12/dist-packages (from pandas) (2.0.2)\n",
            "Requirement already satisfied: python-dateutil>=2.8.2 in /usr/local/lib/python3.12/dist-packages (from pandas) (2.9.0.post0)\n",
            "Requirement already satisfied: pytz>=2020.1 in /usr/local/lib/python3.12/dist-packages (from pandas) (2025.2)\n",
            "Requirement already satisfied: tzdata>=2022.7 in /usr/local/lib/python3.12/dist-packages (from pandas) (2025.2)\n",
            "Requirement already satisfied: six>=1.5 in /usr/local/lib/python3.12/dist-packages (from python-dateutil>=2.8.2->pandas) (1.17.0)\n"
          ]
        }
      ]
    },
    {
      "cell_type": "code",
      "source": [
        "!pip install nltk"
      ],
      "metadata": {
        "colab": {
          "base_uri": "https://localhost:8080/"
        },
        "id": "rBVwQKXknmmA",
        "outputId": "ada305cc-c431-4589-f15a-df45d968eda9"
      },
      "execution_count": 15,
      "outputs": [
        {
          "output_type": "stream",
          "name": "stdout",
          "text": [
            "Requirement already satisfied: nltk in /usr/local/lib/python3.12/dist-packages (3.9.1)\n",
            "Requirement already satisfied: click in /usr/local/lib/python3.12/dist-packages (from nltk) (8.3.0)\n",
            "Requirement already satisfied: joblib in /usr/local/lib/python3.12/dist-packages (from nltk) (1.5.2)\n",
            "Requirement already satisfied: regex>=2021.8.3 in /usr/local/lib/python3.12/dist-packages (from nltk) (2024.11.6)\n",
            "Requirement already satisfied: tqdm in /usr/local/lib/python3.12/dist-packages (from nltk) (4.67.1)\n"
          ]
        }
      ]
    },
    {
      "cell_type": "code",
      "source": [
        "import nltk\n",
        "nltk.download('stopwords')"
      ],
      "metadata": {
        "colab": {
          "base_uri": "https://localhost:8080/"
        },
        "id": "iPykHXSFnqp3",
        "outputId": "5b1f60e9-3f06-4abe-f387-b434d977ad17"
      },
      "execution_count": 17,
      "outputs": [
        {
          "output_type": "stream",
          "name": "stderr",
          "text": [
            "[nltk_data] Downloading package stopwords to /root/nltk_data...\n",
            "[nltk_data]   Unzipping corpora/stopwords.zip.\n"
          ]
        },
        {
          "output_type": "execute_result",
          "data": {
            "text/plain": [
              "True"
            ]
          },
          "metadata": {},
          "execution_count": 17
        }
      ]
    },
    {
      "cell_type": "code",
      "source": [
        "import pandas as pd\n",
        "import string\n",
        "import re\n",
        "import nltk\n",
        "from nltk.corpus import stopwords\n",
        "\n",
        "# Fungsi untuk menghapus tanda baca\n",
        "def hapus_tanda_baca(teks):\n",
        "    return teks.translate(str.maketrans('', '', string.punctuation))\n",
        "\n",
        "# Fungsi hapus emoji\n",
        "def hapus_emoji(teks):\n",
        "    emoji_pattern = re.compile(\n",
        "        \"[\"\n",
        "        u\"\\U0001F600-\\U0001F64F\"  # emoticon\n",
        "        u\"\\U0001F300-\\U0001F5FF\"  # simbol & pictograph\n",
        "        u\"\\U0001F680-\\U0001F6FF\"  # transport & map\n",
        "        u\"\\U0001F1E0-\\U0001F1FF\"  # bendera\n",
        "        u\"\\U00002700-\\U000027BF\"  # dingbats\n",
        "        u\"\\U000024C2-\\U0001F251\"  # simbol tambahan\n",
        "        \"]+\", flags=re.UNICODE)\n",
        "    return emoji_pattern.sub(r'', teks)\n",
        "\n",
        "# Fungsi hapus whitespace\n",
        "def hapus_whitespace(teks):\n",
        "    return \" \".join(teks.split())\n",
        "\n",
        "# Fungsi hapus stopwords\n",
        "stop_words = set(stopwords.words('indonesian'))\n",
        "def hapus_stopwords(teks):\n",
        "    kata = teks.split()\n",
        "    kata_bersih = [w for w in kata if w not in stop_words]\n",
        "    return \" \".join(kata_bersih)\n",
        "\n",
        "# Gabungkan preprocessing\n",
        "def bersihkan_komentar(teks):\n",
        "    teks = hapus_emoji(teks)\n",
        "    teks = hapus_tanda_baca(teks)\n",
        "    teks = hapus_whitespace(teks)\n",
        "    teks = hapus_stopwords(teks)\n",
        "    return teks\n",
        "\n",
        "# Tambahkan kolom komentar bersih\n",
        "df['setelah_preprocesing'] = df['komentar'].apply(bersihkan_komentar)\n",
        "\n",
        "# Simpan hasilnya ke file CSV\n",
        "df.to_csv('hasil_preprocesing.csv', index=False)\n",
        "\n",
        "print(\"Hasil preprocessing telah ditambahkan dan disimpan di 'hasil_scraping_komentar.csv'\")\n"
      ],
      "metadata": {
        "colab": {
          "base_uri": "https://localhost:8080/"
        },
        "id": "b-A_sYVpk5wQ",
        "outputId": "81cedf47-3acb-4d29-ef98-aa1862aae461"
      },
      "execution_count": 26,
      "outputs": [
        {
          "output_type": "stream",
          "name": "stdout",
          "text": [
            "Hasil preprocessing telah ditambahkan dan disimpan di 'hasil_scraping_komentar.csv'\n"
          ]
        }
      ]
    },
    {
      "cell_type": "markdown",
      "source": [
        "### 5. Normalisasi"
      ],
      "metadata": {
        "id": "ayMKusBIrRKM"
      }
    },
    {
      "cell_type": "code",
      "source": [
        "!pip install Sastrawi"
      ],
      "metadata": {
        "colab": {
          "base_uri": "https://localhost:8080/"
        },
        "id": "IelVtBCSrr-U",
        "outputId": "570d5b98-e340-4c60-912c-78090bdd33d0"
      },
      "execution_count": 27,
      "outputs": [
        {
          "output_type": "stream",
          "name": "stdout",
          "text": [
            "Collecting Sastrawi\n",
            "  Downloading Sastrawi-1.0.1-py2.py3-none-any.whl.metadata (909 bytes)\n",
            "Downloading Sastrawi-1.0.1-py2.py3-none-any.whl (209 kB)\n",
            "\u001b[?25l   \u001b[90m━━━━━━━━━━━━━━━━━━━━━━━━━━━━━━━━━━━━━━━━\u001b[0m \u001b[32m0.0/209.7 kB\u001b[0m \u001b[31m?\u001b[0m eta \u001b[36m-:--:--\u001b[0m\r\u001b[2K   \u001b[90m━━━━━━━━━━━━━━━━━━━━━━━━━━━━━━━━━━━━━━━━\u001b[0m \u001b[32m209.7/209.7 kB\u001b[0m \u001b[31m6.8 MB/s\u001b[0m eta \u001b[36m0:00:00\u001b[0m\n",
            "\u001b[?25hInstalling collected packages: Sastrawi\n",
            "Successfully installed Sastrawi-1.0.1\n"
          ]
        }
      ]
    },
    {
      "cell_type": "code",
      "source": [
        "import pandas as pd\n",
        "from Sastrawi.Stemmer.StemmerFactory import StemmerFactory\n",
        "\n",
        "# Baca file hasil preprocessing sebelumnya\n",
        "df = pd.read_csv('hasil_scraping_komentar.csv')\n",
        "\n",
        "# Isi NaN dengan string kosong agar tidak error\n",
        "df['komentar_bersih'] = df['komentar_bersih'].fillna('')\n",
        "\n",
        "# Buat stemmer Bahasa Indonesia dengan Sastrawi\n",
        "factory = StemmerFactory()\n",
        "stemmer = factory.create_stemmer()\n",
        "\n",
        "# Fungsi stemming dengan konversi ke string (untuk keamanan)\n",
        "def lakukan_stemming(teks):\n",
        "    teks = str(teks)  # pastikan tipe string\n",
        "    return stemmer.stem(teks)\n",
        "\n",
        "# Terapkan stemming dan simpan ke kolom baru\n",
        "df['setelah_normalisasi'] = df['setelah_preprocesing'].apply(lakukan_stemming)\n",
        "\n",
        "# Hapus baris duplikat berdasarkan kolom hasil stemming\n",
        "df = df.drop_duplicates(subset='setelah_normalisasi').reset_index(drop=True)\n",
        "\n",
        "# Simpan ke file CSV baru\n",
        "df.to_csv('komentar_setelah_normalisasi.csv', index=False)\n",
        "\n",
        "print(\"Proses stemming dan penghapusan duplikat selesai, hasil disimpan di 'komentar_setelah_preprocessing.csv'\")\n"
      ],
      "metadata": {
        "id": "zfJKJfBACgdx",
        "colab": {
          "base_uri": "https://localhost:8080/"
        },
        "outputId": "db007047-78e3-4078-dbca-b10fab8db9f6"
      },
      "execution_count": 32,
      "outputs": [
        {
          "output_type": "stream",
          "name": "stdout",
          "text": [
            "Proses stemming dan penghapusan duplikat selesai, hasil disimpan di 'komentar_setelah_preprocessing.csv'\n"
          ]
        }
      ]
    },
    {
      "cell_type": "code",
      "source": [
        "def hapus_singkatan(teks):\n",
        "    daftar_singkatan = {\n",
        "        'yg', 'dg', 'dgn', 'tp', 'krn', 'tdk', 'gk', 'ga', 'g', 'blm', 'skrg',\n",
        "        'dr', 'jgn', 'sdh', 'udh', 'sm', 'sy', 'sd', 'bkn', 'aja', 'si', 'sok', 'kes', 'nya', 'aer', 'yah', 'klu'\n",
        "    }\n",
        "    kata = teks.split()\n",
        "    kata_bersih = [w for w in kata if w not in daftar_singkatan]\n",
        "    return \" \".join(kata_bersih)\n",
        "\n",
        "# Fungsi stopwords\n",
        "def hapus_stopwords(teks):\n",
        "    kata = teks.split()\n",
        "    kata_bersih = [w for w in kata if w not in stop_words]\n",
        "    return \" \".join(kata_bersih)\n",
        "\n",
        "def hapus_kata_duplikat(teks):\n",
        "    kata_unik = []\n",
        "    sudah_ada = set()\n",
        "    for kata in teks.split():\n",
        "        if kata not in sudah_ada:\n",
        "            kata_unik.append(kata)\n",
        "            sudah_ada.add(kata)\n",
        "    return \" \".join(kata_unik)\n",
        "\n",
        "def normalisasi_lanjutan(teks):\n",
        "    teks = hapus_singkatan(teks)\n",
        "    teks = hapus_stopwords(teks)\n",
        "    teks = hapus_kata_duplikat(teks)\n",
        "    return teks\n",
        "\n",
        "# Terapkan ke kolom sebelumnya (hasil dari tahap sebelumnya)\n",
        "df['setelah_normalisasi1'] = df['setelah_normalisasi'].apply(normalisasi_lanjutan)\n",
        "\n",
        "# Hapus duplikat berdasarkan hasil akhir\n",
        "df = df.drop_duplicates(subset='setelah_normalisasi1').reset_index(drop=True)\n",
        "\n",
        "# Simpan ke CSV baru\n",
        "df.to_csv('komentar_setelah_normalisasi.csv', index=False)\n",
        "\n",
        "print(\"Hasil disimpan di: 'komentar_setelah_normalisasi.csv'\")"
      ],
      "metadata": {
        "colab": {
          "base_uri": "https://localhost:8080/"
        },
        "id": "wtgdS34By3Ga",
        "outputId": "50be5cda-f148-4bad-b0da-77c6065c8ccb"
      },
      "execution_count": 39,
      "outputs": [
        {
          "output_type": "stream",
          "name": "stdout",
          "text": [
            "Hasil disimpan di: 'komentar_setelah_normalisasi.csv'\n"
          ]
        }
      ]
    },
    {
      "cell_type": "markdown",
      "source": [
        "### 6. Bi-gram, Tri-gram, Wordcloud"
      ],
      "metadata": {
        "id": "_yM3icdq3MlK"
      }
    },
    {
      "cell_type": "code",
      "source": [
        "!pip install pandas scikit-learn wordcloud matplotlib\n"
      ],
      "metadata": {
        "colab": {
          "base_uri": "https://localhost:8080/"
        },
        "id": "ezAQTRY73TRS",
        "outputId": "c71b370d-d110-4106-9ea4-bbf83d0f71bd"
      },
      "execution_count": 40,
      "outputs": [
        {
          "output_type": "stream",
          "name": "stdout",
          "text": [
            "Requirement already satisfied: pandas in /usr/local/lib/python3.12/dist-packages (2.2.2)\n",
            "Requirement already satisfied: scikit-learn in /usr/local/lib/python3.12/dist-packages (1.6.1)\n",
            "Requirement already satisfied: wordcloud in /usr/local/lib/python3.12/dist-packages (1.9.4)\n",
            "Requirement already satisfied: matplotlib in /usr/local/lib/python3.12/dist-packages (3.10.0)\n",
            "Requirement already satisfied: numpy>=1.26.0 in /usr/local/lib/python3.12/dist-packages (from pandas) (2.0.2)\n",
            "Requirement already satisfied: python-dateutil>=2.8.2 in /usr/local/lib/python3.12/dist-packages (from pandas) (2.9.0.post0)\n",
            "Requirement already satisfied: pytz>=2020.1 in /usr/local/lib/python3.12/dist-packages (from pandas) (2025.2)\n",
            "Requirement already satisfied: tzdata>=2022.7 in /usr/local/lib/python3.12/dist-packages (from pandas) (2025.2)\n",
            "Requirement already satisfied: scipy>=1.6.0 in /usr/local/lib/python3.12/dist-packages (from scikit-learn) (1.16.2)\n",
            "Requirement already satisfied: joblib>=1.2.0 in /usr/local/lib/python3.12/dist-packages (from scikit-learn) (1.5.2)\n",
            "Requirement already satisfied: threadpoolctl>=3.1.0 in /usr/local/lib/python3.12/dist-packages (from scikit-learn) (3.6.0)\n",
            "Requirement already satisfied: pillow in /usr/local/lib/python3.12/dist-packages (from wordcloud) (11.3.0)\n",
            "Requirement already satisfied: contourpy>=1.0.1 in /usr/local/lib/python3.12/dist-packages (from matplotlib) (1.3.3)\n",
            "Requirement already satisfied: cycler>=0.10 in /usr/local/lib/python3.12/dist-packages (from matplotlib) (0.12.1)\n",
            "Requirement already satisfied: fonttools>=4.22.0 in /usr/local/lib/python3.12/dist-packages (from matplotlib) (4.60.1)\n",
            "Requirement already satisfied: kiwisolver>=1.3.1 in /usr/local/lib/python3.12/dist-packages (from matplotlib) (1.4.9)\n",
            "Requirement already satisfied: packaging>=20.0 in /usr/local/lib/python3.12/dist-packages (from matplotlib) (25.0)\n",
            "Requirement already satisfied: pyparsing>=2.3.1 in /usr/local/lib/python3.12/dist-packages (from matplotlib) (3.2.5)\n",
            "Requirement already satisfied: six>=1.5 in /usr/local/lib/python3.12/dist-packages (from python-dateutil>=2.8.2->pandas) (1.17.0)\n"
          ]
        }
      ]
    },
    {
      "cell_type": "code",
      "source": [
        "import pandas as pd\n",
        "from sklearn.feature_extraction.text import CountVectorizer\n",
        "from wordcloud import WordCloud\n",
        "import matplotlib.pyplot as plt\n",
        "from matplotlib.backends.backend_pdf import PdfPages\n",
        "\n",
        "# Baca data\n",
        "df = pd.read_csv('komentar_setelah_normalisasi.csv')\n",
        "df['setelah_normalisasi1'] = df['setelah_normalisasi1'].fillna('')\n",
        "\n",
        "# Gabungkan semua komentar\n",
        "all_text = ' '.join(df['setelah_normalisasi1'].astype(str))\n",
        "\n",
        "# Buat file PDF\n",
        "with PdfPages('visualisasi_komentar_horizontal.pdf') as pdf:\n",
        "\n",
        "    # 1. WordCloud\n",
        "    wordcloud = WordCloud(width=800, height=400, background_color='white', colormap='viridis').generate(all_text)\n",
        "\n",
        "    plt.figure(figsize=(12, 6))\n",
        "    plt.imshow(wordcloud, interpolation='bilinear')\n",
        "    plt.axis('off')\n",
        "    plt.title(\"WordCloud - Komentar\")\n",
        "    pdf.savefig()\n",
        "    plt.close()\n",
        "\n",
        "    # 2. Bigram\n",
        "    vectorizer_bigram = CountVectorizer(ngram_range=(2, 2))\n",
        "    bigram_matrix = vectorizer_bigram.fit_transform(df['setelah_normalisasi1'])\n",
        "    bigram_freq = zip(vectorizer_bigram.get_feature_names_out(), bigram_matrix.sum(axis=0).tolist()[0])\n",
        "    bigram_sorted = sorted(bigram_freq, key=lambda x: x[1], reverse=True)[:10]\n",
        "\n",
        "    # Grafik Bigram (Horizontal)\n",
        "    bigram_labels, bigram_counts = zip(*bigram_sorted)\n",
        "    plt.figure(figsize=(10, 6))\n",
        "    bars = plt.barh(bigram_labels, bigram_counts, color='skyblue')\n",
        "    plt.ylabel('Frekuensi')\n",
        "    plt.title('Top 10 Bigram')\n",
        "    plt.gca().invert_yaxis()\n",
        "\n",
        "    # Tambahkan frekuensi di ujung bar\n",
        "    for bar in bars:\n",
        "        plt.text(bar.get_width() + 0.5, bar.get_y() + bar.get_height()/2, str(int(bar.get_width())), va='center')\n",
        "\n",
        "    pdf.savefig()\n",
        "    plt.close()\n",
        "\n",
        "    # 3. Trigram\n",
        "    vectorizer_trigram = CountVectorizer(ngram_range=(3, 3))\n",
        "    trigram_matrix = vectorizer_trigram.fit_transform(df['setelah_normalisasi1'])\n",
        "    trigram_freq = zip(vectorizer_trigram.get_feature_names_out(), trigram_matrix.sum(axis=0).tolist()[0])\n",
        "    trigram_sorted = sorted(trigram_freq, key=lambda x: x[1], reverse=True)[:10]\n",
        "\n",
        "    # Grafik Trigram (Horizontal)\n",
        "    trigram_labels, trigram_counts = zip(*trigram_sorted)\n",
        "    plt.figure(figsize=(10, 6))\n",
        "    bars = plt.barh(trigram_labels, trigram_counts, color='salmon')\n",
        "    plt.ylabel('Frekuensi')\n",
        "    plt.title('Top 10 Trigram')\n",
        "    plt.gca().invert_yaxis()\n",
        "\n",
        "    # Tambahkan frekuensi di ujung bar\n",
        "    for bar in bars:\n",
        "        plt.text(bar.get_width() + 0.5, bar.get_y() + bar.get_height()/2, str(int(bar.get_width())), va='center')\n",
        "\n",
        "    pdf.savefig()\n",
        "    plt.close()\n",
        "\n",
        "print(\"✅ Visualisasi dengan frekuensi horizontal telah disimpan di 'visualisasi_komentar.pdf'\")\n"
      ],
      "metadata": {
        "colab": {
          "base_uri": "https://localhost:8080/"
        },
        "id": "-t-7k90l3nN0",
        "outputId": "2acfd022-82de-4904-d5f7-9e81c18bfed2"
      },
      "execution_count": 45,
      "outputs": [
        {
          "output_type": "stream",
          "name": "stdout",
          "text": [
            "✅ Visualisasi dengan frekuensi horizontal telah disimpan di 'visualisasi_komentar.pdf'\n"
          ]
        }
      ]
    },
    {
      "cell_type": "code",
      "source": [
        "import pandas as pd\n",
        "from sklearn.feature_extraction.text import CountVectorizer\n",
        "from wordcloud import WordCloud\n",
        "import matplotlib.pyplot as plt\n",
        "from matplotlib.backends.backend_pdf import PdfPages\n",
        "\n",
        "# Baca data\n",
        "df = pd.read_csv('komentar_setelah_normalisasi.csv')\n",
        "df['setelah_normalisasi1'] = df['setelah_normalisasi1'].fillna('')\n",
        "\n",
        "# Gabungkan semua komentar\n",
        "all_text = ' '.join(df['setelah_normalisasi1'].astype(str))\n",
        "\n",
        "# Buat file PDF untuk menyimpan semua visualisasi\n",
        "with PdfPages('visualisasi_komentar_vertikal.pdf') as pdf:\n",
        "\n",
        "    # 1. WordCloud\n",
        "    wordcloud = WordCloud(width=800, height=400, background_color='white', colormap='viridis').generate(all_text)\n",
        "    plt.figure(figsize=(12, 6))\n",
        "    plt.imshow(wordcloud, interpolation='bilinear')\n",
        "    plt.axis('off')\n",
        "    plt.title(\"WordCloud - Komentar\")\n",
        "    pdf.savefig()\n",
        "    plt.close()\n",
        "\n",
        "    # 2. Bigram\n",
        "    vectorizer_bigram = CountVectorizer(ngram_range=(2, 2))\n",
        "    bigram_matrix = vectorizer_bigram.fit_transform(df['setelah_normalisasi1'])\n",
        "    bigram_freq = zip(vectorizer_bigram.get_feature_names_out(), bigram_matrix.sum(axis=0).tolist()[0])\n",
        "    bigram_sorted = sorted(bigram_freq, key=lambda x: x[1], reverse=True)[:10]\n",
        "\n",
        "    bigram_labels, bigram_counts = zip(*bigram_sorted)\n",
        "    plt.figure(figsize=(12, 6))\n",
        "    bars = plt.bar(bigram_labels, bigram_counts, color='skyblue')\n",
        "    plt.xticks(rotation=45, ha='right')\n",
        "    plt.ylabel('Frekuensi')\n",
        "    plt.title('Top 10 Bigram')\n",
        "\n",
        "    for bar in bars:\n",
        "        plt.text(bar.get_x() + bar.get_width()/2, bar.get_height() + 0.5,\n",
        "                 str(int(bar.get_height())), ha='center', va='bottom')\n",
        "\n",
        "    pdf.savefig()\n",
        "    plt.close()\n",
        "\n",
        "    # 3. Trigram\n",
        "    vectorizer_trigram = CountVectorizer(ngram_range=(3, 3))\n",
        "    trigram_matrix = vectorizer_trigram.fit_transform(df['setelah_normalisasi1'])\n",
        "    trigram_freq = zip(vectorizer_trigram.get_feature_names_out(), trigram_matrix.sum(axis=0).tolist()[0])\n",
        "    trigram_sorted = sorted(trigram_freq, key=lambda x: x[1], reverse=True)[:10]\n",
        "\n",
        "    trigram_labels, trigram_counts = zip(*trigram_sorted)\n",
        "    plt.figure(figsize=(12, 6))\n",
        "    bars = plt.bar(trigram_labels, trigram_counts, color='salmon')\n",
        "    plt.xticks(rotation=45, ha='right')\n",
        "    plt.ylabel('Frekuensi')\n",
        "    plt.title('Top 10 Trigram')\n",
        "\n",
        "    for bar in bars:\n",
        "        plt.text(bar.get_x() + bar.get_width()/2, bar.get_height() + 0.5,\n",
        "                 str(int(bar.get_height())), ha='center', va='bottom')\n",
        "\n",
        "    pdf.savefig()\n",
        "    plt.close()\n",
        "\n",
        "print(\"✅ Visualisasi vertikal berhasil disimpan ke: 'visualisasi_komentar_vertikal.pdf'\")\n"
      ],
      "metadata": {
        "colab": {
          "base_uri": "https://localhost:8080/"
        },
        "id": "xfeZUx054ssW",
        "outputId": "2150f0e6-5453-4b40-e14b-a7f9b0c83b3b"
      },
      "execution_count": 44,
      "outputs": [
        {
          "output_type": "stream",
          "name": "stdout",
          "text": [
            "✅ Visualisasi vertikal berhasil disimpan ke: 'visualisasi_komentar_vertikal.pdf'\n"
          ]
        }
      ]
    }
  ]
}