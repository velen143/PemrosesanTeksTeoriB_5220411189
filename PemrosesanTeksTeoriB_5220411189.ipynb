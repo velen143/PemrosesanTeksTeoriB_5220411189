{
  "nbformat": 4,
  "nbformat_minor": 0,
  "metadata": {
    "colab": {
      "provenance": []
    },
    "kernelspec": {
      "name": "python3",
      "display_name": "Python 3"
    },
    "language_info": {
      "name": "python"
    }
  },
  "cells": [
    {
      "cell_type": "markdown",
      "source": [
        "### Tingkat Kepercayaan Masyarakat terhadap Menteri Keuangan Baru Purbaya Yudhi Sadewa\n",
        "\n"
      ],
      "metadata": {
        "id": "HDj0i3KEiQa_"
      }
    },
    {
      "cell_type": "markdown",
      "source": [
        "### 1. Scraping Data\n",
        "Scraping diambil dari komentar masyarakat di channel youtube KompasTV saat Menteri Purbaya melakukan rapat perdana dengan DPR"
      ],
      "metadata": {
        "id": "Sl_9JiYBi6nM"
      }
    },
    {
      "cell_type": "code",
      "source": [
        "!pip install youtube-comment-downloader"
      ],
      "metadata": {
        "colab": {
          "base_uri": "https://localhost:8080/"
        },
        "id": "Q4WTtt_8f75R",
        "outputId": "9322cc3e-3f94-4f1d-f456-178f63334481"
      },
      "execution_count": 7,
      "outputs": [
        {
          "output_type": "stream",
          "name": "stdout",
          "text": [
            "Requirement already satisfied: youtube-comment-downloader in /usr/local/lib/python3.12/dist-packages (0.1.78)\n",
            "Requirement already satisfied: dateparser in /usr/local/lib/python3.12/dist-packages (from youtube-comment-downloader) (1.2.2)\n",
            "Requirement already satisfied: requests in /usr/local/lib/python3.12/dist-packages (from youtube-comment-downloader) (2.32.4)\n",
            "Requirement already satisfied: python-dateutil>=2.7.0 in /usr/local/lib/python3.12/dist-packages (from dateparser->youtube-comment-downloader) (2.9.0.post0)\n",
            "Requirement already satisfied: pytz>=2024.2 in /usr/local/lib/python3.12/dist-packages (from dateparser->youtube-comment-downloader) (2025.2)\n",
            "Requirement already satisfied: regex>=2024.9.11 in /usr/local/lib/python3.12/dist-packages (from dateparser->youtube-comment-downloader) (2024.11.6)\n",
            "Requirement already satisfied: tzlocal>=0.2 in /usr/local/lib/python3.12/dist-packages (from dateparser->youtube-comment-downloader) (5.3.1)\n",
            "Requirement already satisfied: charset_normalizer<4,>=2 in /usr/local/lib/python3.12/dist-packages (from requests->youtube-comment-downloader) (3.4.3)\n",
            "Requirement already satisfied: idna<4,>=2.5 in /usr/local/lib/python3.12/dist-packages (from requests->youtube-comment-downloader) (3.10)\n",
            "Requirement already satisfied: urllib3<3,>=1.21.1 in /usr/local/lib/python3.12/dist-packages (from requests->youtube-comment-downloader) (2.5.0)\n",
            "Requirement already satisfied: certifi>=2017.4.17 in /usr/local/lib/python3.12/dist-packages (from requests->youtube-comment-downloader) (2025.10.5)\n",
            "Requirement already satisfied: six>=1.5 in /usr/local/lib/python3.12/dist-packages (from python-dateutil>=2.7.0->dateparser->youtube-comment-downloader) (1.17.0)\n"
          ]
        }
      ]
    },
    {
      "cell_type": "code",
      "source": [
        "from youtube_comment_downloader import YoutubeCommentDownloader\n",
        "import pandas as pd\n",
        "\n",
        "downloader = YoutubeCommentDownloader()\n",
        "\n",
        "video_url = 'https://www.youtube.com/watch?v=hCRdLMChOzc'\n",
        "\n",
        "comments = downloader.get_comments_from_url(video_url)\n"
      ],
      "metadata": {
        "id": "rY49x-zifvqb"
      },
      "execution_count": 16,
      "outputs": []
    },
    {
      "cell_type": "markdown",
      "source": [
        "### 2. Case Folding\n"
      ],
      "metadata": {
        "id": "r_mLU8lOjTME"
      }
    },
    {
      "cell_type": "code",
      "source": [
        "all_comments = []\n",
        "for c in comments:\n",
        "    all_comments.append(c['text'].lower())\n",
        "\n",
        "# Buat DataFrame\n",
        "df = pd.DataFrame(all_comments, columns=['komentar'])\n",
        "\n",
        "# Simpan ke file CSV\n",
        "df.to_csv('hasil_scraping_komentar.csv', index=False)\n",
        "\n",
        "print(\"Hasil scraping telah disimpan di file 'hasil_scraping_komentar.csv'\")"
      ],
      "metadata": {
        "colab": {
          "base_uri": "https://localhost:8080/"
        },
        "id": "4UcIJWvDjSBl",
        "outputId": "9861cd54-841b-4604-dd07-cd66447d89a8"
      },
      "execution_count": 17,
      "outputs": [
        {
          "output_type": "stream",
          "name": "stdout",
          "text": [
            "Hasil scraping telah disimpan di file 'hasil_scraping_komentar.csv'\n"
          ]
        }
      ]
    },
    {
      "cell_type": "markdown",
      "source": [
        "### 3. Analisis kepuasan dengan dictionary sederhana"
      ],
      "metadata": {
        "id": "NrlrJncKjfbJ"
      }
    },
    {
      "cell_type": "code",
      "source": [
        "import matplotlib.pyplot as plt\n",
        "import seaborn as sns"
      ],
      "metadata": {
        "id": "zAFxG7xvjkz5"
      },
      "execution_count": 10,
      "outputs": []
    },
    {
      "cell_type": "code",
      "source": [
        "# Daftar kata positif dan negatif sederhana\n",
        "percaya = ['baik', 'bagus', 'hebat', 'puas', 'mantap', 'percaya', 'optimis']\n",
        "kurang_percaya = ['buruk', 'gagal', 'tidak', 'percaya', 'meragukan', 'parah', 'aneh', 'negatif']\n",
        "\n",
        "# Fungsi analisis sentimen sederhana\n",
        "def analisis_sentimen(teks):\n",
        "    score = 0\n",
        "    kata = teks.split()\n",
        "    for word in kata:\n",
        "        if word in percaya:\n",
        "            score += 1\n",
        "        elif word in kurang_percaya:\n",
        "            score -= 1\n",
        "    if score > 0:\n",
        "        return 'Percaya'\n",
        "    else:\n",
        "        return 'Kurang Percaya'\n",
        "\n",
        "\n",
        "# Terapkan analisis sentimen ke kolom komentar\n",
        "df['sentimen'] = df['komentar'].apply(analisis_sentimen)\n",
        "\n",
        "# Tampilkan hasil analisis (5 baris pertama)\n",
        "print(df.head())\n",
        "\n",
        "# Hitung jumlah tiap sentimen\n",
        "sentimen_counts = df['sentimen'].value_counts()\n",
        "\n",
        "print(\"\\nJumlah komentar per sentimen:\")\n",
        "print(sentimen_counts)\n",
        "\n",
        "# Visualisasi grafik distribusi sentimen\n",
        "plt.figure(figsize=(6,4))\n",
        "sns.barplot(x=sentimen_counts.index, y=sentimen_counts.values, palette='pastel')\n",
        "plt.title('Distribusi Sentimen Komentar YouTube')\n",
        "plt.xlabel('Kategori Sentimen')\n",
        "plt.ylabel('Jumlah Komentar')\n",
        "plt.show()"
      ],
      "metadata": {
        "colab": {
          "base_uri": "https://localhost:8080/",
          "height": 725
        },
        "id": "VuKf_hjykHm_",
        "outputId": "fc65f42b-7512-418f-e8c8-abda579a8c5e"
      },
      "execution_count": 12,
      "outputs": [
        {
          "output_type": "stream",
          "name": "stdout",
          "text": [
            "                                            komentar        sentimen\n",
            "0  klo mau bikin uu hukuman mati bg kruptor psti ...  Kurang Percaya\n",
            "1          pak dpr yang terhormat sadar diri nggak ?  Kurang Percaya\n",
            "2  betul skrg masih baaanyak lembaga penddkan swa...  Kurang Percaya\n",
            "3          heppy ya !!!! yg miskin masih banyak  woy  Kurang Percaya\n",
            "4  ngomong segudang,suruh ngirit dirimu tuh ngaca...  Kurang Percaya\n",
            "\n",
            "Jumlah komentar per sentimen:\n",
            "sentimen\n",
            "Kurang Percaya    1085\n",
            "Percaya             40\n",
            "Name: count, dtype: int64\n"
          ]
        },
        {
          "output_type": "stream",
          "name": "stderr",
          "text": [
            "/tmp/ipython-input-2120264290.py:34: FutureWarning: \n",
            "\n",
            "Passing `palette` without assigning `hue` is deprecated and will be removed in v0.14.0. Assign the `x` variable to `hue` and set `legend=False` for the same effect.\n",
            "\n",
            "  sns.barplot(x=sentimen_counts.index, y=sentimen_counts.values, palette='pastel')\n"
          ]
        },
        {
          "output_type": "display_data",
          "data": {
            "text/plain": [
              "<Figure size 600x400 with 1 Axes>"
            ],
            "image/png": "[encoded data removed]"
          },
          "metadata": {}
        }
      ]
    }
  ]
}